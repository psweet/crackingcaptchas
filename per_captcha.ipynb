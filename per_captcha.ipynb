{
 "cells": [
  {
   "cell_type": "code",
   "execution_count": 8,
   "metadata": {},
   "outputs": [],
   "source": [
    "import os\n",
    "import string\n",
    "\n",
    "import matplotlib.pyplot as plt\n",
    "import numpy as np\n",
    "import torch\n",
    "from torch import nn\n",
    "from torch.utils.data import DataLoader, TensorDataset"
   ]
  },
  {
   "cell_type": "code",
   "execution_count": 9,
   "metadata": {},
   "outputs": [],
   "source": [
    "CAPTCHA_PATH = './captcha_dataset'\n",
    "PATH = './per_captcha_model.pth'\n",
    "\n",
    "list_of_characters = list(string.digits) + list(string.ascii_lowercase)\n",
    "nchar = len(list_of_characters)\n",
    "train_pct = 0.8\n",
    "training_epochs = 500"
   ]
  },
  {
   "cell_type": "code",
   "execution_count": 10,
   "metadata": {},
   "outputs": [],
   "source": [
    "captchas = os.listdir(CAPTCHA_PATH)\n",
    "solutions = [file[:5] for file in captchas]\n",
    "X = np.zeros((len(captchas), 50, 200, 1))\n",
    "\n",
    "for i, img in enumerate(captchas):\n",
    "    image = plt.imread(f\"{CAPTCHA_PATH}/{img}\")\n",
    "\n",
    "    array_image = np.array(image) / 255\n",
    "    array_image = np.reshape(array_image[:, :, 0], (50, 200, 1))\n",
    "    X[i] = (array_image)"
   ]
  },
  {
   "cell_type": "code",
   "execution_count": 11,
   "metadata": {},
   "outputs": [],
   "source": [
    "y = np.zeros((5 , len(captchas), nchar))\n",
    "for i, captcha in enumerate(solutions):\n",
    "   \n",
    "    temp_label = np.zeros((5, nchar))\n",
    "\n",
    "    for j, character in enumerate(captcha):\n",
    "        character_index = list_of_characters.index(character)\n",
    "\n",
    "        temp_label[j, character_index] = 1\n",
    "        \n",
    "    y[:, i, :] = temp_label"
   ]
  },
  {
   "cell_type": "code",
   "execution_count": 12,
   "metadata": {},
   "outputs": [],
   "source": [
    "class CaptchaModel(nn.Module):\n",
    "    def __init__(self, nchar):\n",
    "        super(CaptchaModel, self).__init__()\n",
    "        self.conv1 = nn.Conv2d(1, 16, kernel_size=3, padding=1)\n",
    "        self.mp1 = nn.MaxPool2d(kernel_size=2, stride=2, padding=0)\n",
    "        self.conv2 = nn.Conv2d(16, 32, kernel_size=3, padding=1)\n",
    "        self.mp2 = nn.MaxPool2d(kernel_size=2, stride=2, padding=0)\n",
    "        self.conv3 = nn.Conv2d(32, 32, kernel_size=3, padding=1)\n",
    "        self.bn = nn.BatchNorm2d(32)\n",
    "        self.mp3 = nn.MaxPool2d(kernel_size=2, stride=2, padding=0)\n",
    "        \n",
    "        self.fc_shared = nn.Linear(4800, 64)\n",
    "        self.fc_outputs = nn.ModuleList([nn.Linear(64, nchar) for _ in range(5)])\n",
    "\n",
    "    def forward(self, x):\n",
    "        x = self.conv1(x)\n",
    "        x = nn.functional.relu(x)\n",
    "        x = self.mp1(x)\n",
    "        \n",
    "        x = self.conv2(x)\n",
    "        x = nn.functional.relu(x)\n",
    "        x = self.mp2(x)\n",
    "        \n",
    "        x = self.conv3(x)\n",
    "        x = nn.functional.relu(x)\n",
    "        x = self.bn(x)\n",
    "        x = self.mp3(x)\n",
    "\n",
    "        x = x.view(x.size(0), -1)\n",
    "        \n",
    "        x = self.fc_shared(x)\n",
    "        x = nn.functional.relu(x)\n",
    "        \n",
    "        outputs = [output_layer(x) for output_layer in self.fc_outputs]\n",
    "        return outputs\n",
    "\n",
    "\n",
    "model = CaptchaModel(nchar)\n",
    "\n",
    "# Define loss and optimizer\n",
    "criterion = nn.CrossEntropyLoss()\n",
    "optimizer = torch.optim.Adam(model.parameters(), lr=0.001)"
   ]
  },
  {
   "cell_type": "code",
   "execution_count": 13,
   "metadata": {},
   "outputs": [],
   "source": [
    "cut = int(train_pct * len(captchas))\n",
    "\n",
    "# Convert your data and labels to PyTorch tensors\n",
    "X_tensor = torch.FloatTensor(X.transpose(0, 3, 1, 2))\n",
    "y_tensor = torch.LongTensor(y) \n",
    "\n",
    "# Split the data into training and validation sets\n",
    "X_train = X_tensor[:cut]\n",
    "y_train = y_tensor[:, :cut, :]\n",
    "\n",
    "X_val = X_tensor[cut:]\n",
    "y_val = y_tensor[:, cut:, :]\n",
    "\n",
    "train_dataset = TensorDataset(\n",
    "    X_train,\n",
    "    y_train[0],\n",
    "    y_train[1],\n",
    "    y_train[2],\n",
    "    y_train[3],\n",
    "    y_train[4]\n",
    ")\n",
    "\n",
    "test_dataset = TensorDataset(\n",
    "    X_val,\n",
    "    y_val[0],\n",
    "    y_val[1],\n",
    "    y_val[2],\n",
    "    y_val[3],\n",
    "    y_val[4]\n",
    ")\n",
    "\n",
    "train_loader = DataLoader(\n",
    "    train_dataset,\n",
    "    batch_size=32,\n",
    "    shuffle=False\n",
    ")\n",
    "\n",
    "test_loader = DataLoader(\n",
    "    test_dataset,\n",
    "    batch_size=32,\n",
    "    shuffle=False\n",
    ")"
   ]
  },
  {
   "cell_type": "code",
   "execution_count": 14,
   "metadata": {},
   "outputs": [
    {
     "name": "stdout",
     "output_type": "stream",
     "text": [
      "Epoch 10 - Loss: 14.39334124105948\n",
      "Epoch 20 - Loss: 14.221042032595035\n",
      "Epoch 30 - Loss: 14.052305398163972\n",
      "Epoch 40 - Loss: 13.969622859248409\n",
      "Epoch 50 - Loss: 13.995127360026041\n",
      "Epoch 60 - Loss: 13.871580088580096\n",
      "Epoch 70 - Loss: 13.79713973292598\n",
      "Epoch 80 - Loss: 13.778606202867296\n"
     ]
    },
    {
     "ename": "KeyboardInterrupt",
     "evalue": "",
     "output_type": "error",
     "traceback": [
      "\u001b[1;31m---------------------------------------------------------------------------\u001b[0m",
      "\u001b[1;31mKeyboardInterrupt\u001b[0m                         Traceback (most recent call last)",
      "Cell \u001b[1;32mIn[14], line 19\u001b[0m\n\u001b[0;32m     16\u001b[0m loss \u001b[39m=\u001b[39m \u001b[39msum\u001b[39m(losses)\n\u001b[0;32m     18\u001b[0m \u001b[39m# Backpropagation\u001b[39;00m\n\u001b[1;32m---> 19\u001b[0m loss\u001b[39m.\u001b[39;49mbackward()\n\u001b[0;32m     21\u001b[0m \u001b[39m# Update the model's parameters\u001b[39;00m\n\u001b[0;32m     22\u001b[0m optimizer\u001b[39m.\u001b[39mstep()\n",
      "File \u001b[1;32mc:\\Users\\Carlos\\AppData\\Local\\Programs\\Python\\Python311\\Lib\\site-packages\\torch\\_tensor.py:487\u001b[0m, in \u001b[0;36mTensor.backward\u001b[1;34m(self, gradient, retain_graph, create_graph, inputs)\u001b[0m\n\u001b[0;32m    477\u001b[0m \u001b[39mif\u001b[39;00m has_torch_function_unary(\u001b[39mself\u001b[39m):\n\u001b[0;32m    478\u001b[0m     \u001b[39mreturn\u001b[39;00m handle_torch_function(\n\u001b[0;32m    479\u001b[0m         Tensor\u001b[39m.\u001b[39mbackward,\n\u001b[0;32m    480\u001b[0m         (\u001b[39mself\u001b[39m,),\n\u001b[1;32m   (...)\u001b[0m\n\u001b[0;32m    485\u001b[0m         inputs\u001b[39m=\u001b[39minputs,\n\u001b[0;32m    486\u001b[0m     )\n\u001b[1;32m--> 487\u001b[0m torch\u001b[39m.\u001b[39;49mautograd\u001b[39m.\u001b[39;49mbackward(\n\u001b[0;32m    488\u001b[0m     \u001b[39mself\u001b[39;49m, gradient, retain_graph, create_graph, inputs\u001b[39m=\u001b[39;49minputs\n\u001b[0;32m    489\u001b[0m )\n",
      "File \u001b[1;32mc:\\Users\\Carlos\\AppData\\Local\\Programs\\Python\\Python311\\Lib\\site-packages\\torch\\autograd\\__init__.py:200\u001b[0m, in \u001b[0;36mbackward\u001b[1;34m(tensors, grad_tensors, retain_graph, create_graph, grad_variables, inputs)\u001b[0m\n\u001b[0;32m    195\u001b[0m     retain_graph \u001b[39m=\u001b[39m create_graph\n\u001b[0;32m    197\u001b[0m \u001b[39m# The reason we repeat same the comment below is that\u001b[39;00m\n\u001b[0;32m    198\u001b[0m \u001b[39m# some Python versions print out the first line of a multi-line function\u001b[39;00m\n\u001b[0;32m    199\u001b[0m \u001b[39m# calls in the traceback and some print out the last line\u001b[39;00m\n\u001b[1;32m--> 200\u001b[0m Variable\u001b[39m.\u001b[39;49m_execution_engine\u001b[39m.\u001b[39;49mrun_backward(  \u001b[39m# Calls into the C++ engine to run the backward pass\u001b[39;49;00m\n\u001b[0;32m    201\u001b[0m     tensors, grad_tensors_, retain_graph, create_graph, inputs,\n\u001b[0;32m    202\u001b[0m     allow_unreachable\u001b[39m=\u001b[39;49m\u001b[39mTrue\u001b[39;49;00m, accumulate_grad\u001b[39m=\u001b[39;49m\u001b[39mTrue\u001b[39;49;00m)\n",
      "\u001b[1;31mKeyboardInterrupt\u001b[0m: "
     ]
    }
   ],
   "source": [
    "for epoch in range(training_epochs):\n",
    "    model.train()\n",
    "\n",
    "    running_loss = 0.0\n",
    "    # Iterate over batches of the training dataset\n",
    "    for inputs, target0, target1, target2, target3, target4 in train_loader:\n",
    "        # Zero the gradients\n",
    "        optimizer.zero_grad()\n",
    "\n",
    "        # Forward pass\n",
    "        outputs = model(inputs)\n",
    "        \n",
    "        # Calculate the loss for each output and sum them up\n",
    "        targets = [target0, target1, target2, target3, target4]\n",
    "        losses = [criterion(output, target.float()) for output, target in zip(outputs, targets)]\n",
    "        loss = sum(losses)\n",
    "\n",
    "        # Backpropagation\n",
    "        loss.backward()\n",
    "        \n",
    "        # Update the model's parameters\n",
    "        optimizer.step()\n",
    "        \n",
    "        running_loss += loss.item()\n",
    "    \n",
    "    # Print the average loss for this epoch every 10 epochs\n",
    "    if (epoch+1) % 10 == 0:\n",
    "        print(f\"Epoch {epoch+1} - Loss: {running_loss / len(train_loader)}\")"
   ]
  },
  {
   "cell_type": "markdown",
   "metadata": {},
   "source": [
    "### Saving trained network"
   ]
  },
  {
   "cell_type": "code",
   "execution_count": null,
   "metadata": {},
   "outputs": [],
   "source": [
    "torch.save(model.state_dict(), PATH)"
   ]
  },
  {
   "cell_type": "markdown",
   "metadata": {},
   "source": [
    "### Loading trained network"
   ]
  },
  {
   "cell_type": "code",
   "execution_count": null,
   "metadata": {},
   "outputs": [],
   "source": [
    "model = CaptchaModel(nchar)\n",
    "model.load_state_dict(torch.load(PATH))"
   ]
  },
  {
   "cell_type": "code",
   "execution_count": null,
   "metadata": {},
   "outputs": [],
   "source": [
    "# Gets predicted labels from test dataset\n",
    "pred_labels = torch.zeros((len(X_val), 5, 1))\n",
    "\n",
    "with torch.no_grad():\n",
    "    model.eval()\n",
    "\n",
    "    for i, input in enumerate(X_val):\n",
    "        temp_labels = torch.zeros((5,1))\n",
    "\n",
    "        outputs = model(input.unsqueeze(0))\n",
    "\n",
    "        for j, num in enumerate(outputs):\n",
    "            temp_labels[j] = num.argmax(dim=1)\n",
    "\n",
    "        pred_labels[i] = temp_labels  "
   ]
  },
  {
   "cell_type": "markdown",
   "metadata": {},
   "source": [
    "### Turn labels into indexes to compare to predicted"
   ]
  },
  {
   "cell_type": "code",
   "execution_count": null,
   "metadata": {},
   "outputs": [],
   "source": [
    "y_test_indexes = torch.zeros((214, 5, 1))\n",
    "\n",
    "for i in range(214):\n",
    "    temp_label = torch.zeros((5, 1))\n",
    "\n",
    "    for j in range(5):\n",
    "        itemindex = np.where(y_val[:,i][j] == 1 )[0][0]\n",
    "        temp_label[j] = itemindex\n",
    "\n",
    "    y_test_indexes[i] = temp_label"
   ]
  },
  {
   "cell_type": "markdown",
   "metadata": {},
   "source": [
    "### Evaluating model accuracy"
   ]
  },
  {
   "cell_type": "code",
   "execution_count": null,
   "metadata": {},
   "outputs": [],
   "source": [
    "correct = 0\n",
    "\n",
    "for i in range(y_val.shape[1]):\n",
    "    a = y_test_indexes[i] == pred_labels[i]\n",
    "\n",
    "    if False not in a:\n",
    "        correct += 1\n",
    "\n",
    "accuracy = correct / y_val.shape[1] * 100\n",
    "print(f\"Correct CAPTCHAs: {accuracy:.2f}%\")"
   ]
  },
  {
   "cell_type": "code",
   "execution_count": null,
   "metadata": {},
   "outputs": [],
   "source": [
    "correct = 0\n",
    "total_digits = 0\n",
    "\n",
    "for i in range(y_val.shape[1]):\n",
    "    for j in range(5):\n",
    "        total_digits += 1\n",
    "        if y_test_indexes[i][j] == pred_labels[i][j]:\n",
    "            correct += 1\n",
    "\n",
    "accuracy = correct / total_digits * 100\n",
    "print(f\"Correct digits: {accuracy:.2f}%\")"
   ]
  }
 ],
 "metadata": {
  "kernelspec": {
   "display_name": "Python 3",
   "language": "python",
   "name": "python3"
  },
  "language_info": {
   "codemirror_mode": {
    "name": "ipython",
    "version": 3
   },
   "file_extension": ".py",
   "mimetype": "text/x-python",
   "name": "python",
   "nbconvert_exporter": "python",
   "pygments_lexer": "ipython3",
   "version": "3.11.4"
  },
  "orig_nbformat": 4
 },
 "nbformat": 4,
 "nbformat_minor": 2
}
