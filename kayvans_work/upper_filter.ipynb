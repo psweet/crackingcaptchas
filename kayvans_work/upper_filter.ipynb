{
 "cells": [
  {
   "cell_type": "code",
   "execution_count": 10,
   "metadata": {},
   "outputs": [],
   "source": [
    "import torch\n",
    "import torchvision\n",
    "import random\n",
    "import os\n",
    "\n",
    "import torch.nn as nn\n",
    "import torch.nn.functional as F\n",
    "import torch.optim as optim\n",
    "import torchvision.transforms as T\n",
    "\n",
    "import matplotlib.pyplot as plt\n",
    "import numpy as np\n",
    "import pandas as pd\n",
    "\n",
    "PATH = './emnist.pth'"
   ]
  },
  {
   "attachments": {},
   "cell_type": "markdown",
   "metadata": {},
   "source": [
    "## Download/load data"
   ]
  },
  {
   "cell_type": "code",
   "execution_count": 2,
   "metadata": {},
   "outputs": [
    {
     "name": "stdout",
     "output_type": "stream",
     "text": [
      "Downloading https://www.itl.nist.gov/iaui/vip/cs_links/EMNIST/gzip.zip to ./data/EMNIST/raw/gzip.zip\n"
     ]
    },
    {
     "name": "stderr",
     "output_type": "stream",
     "text": [
      "100%|██████████| 561753746/561753746 [00:15<00:00, 37445731.10it/s]\n"
     ]
    },
    {
     "name": "stdout",
     "output_type": "stream",
     "text": [
      "Extracting ./data/EMNIST/raw/gzip.zip to ./data/EMNIST/raw\n"
     ]
    }
   ],
   "source": [
    "transform = T.Compose(\n",
    "    [\n",
    "        T.ToTensor(),\n",
    "        T.Normalize((0.5), (0.5))\n",
    "    ]\n",
    ")\n",
    "\n",
    "data_set = torchvision.datasets.EMNIST(\n",
    "    root='./data',\n",
    "    split=\"byclass\",\n",
    "    train=True,\n",
    "    download=True, \n",
    "    transform=transform\n",
    ")"
   ]
  },
  {
   "cell_type": "code",
   "execution_count": 11,
   "metadata": {},
   "outputs": [],
   "source": [
    "import string\n",
    "# removing upper case letters\n",
    "uppers = np.arange(10,36)\n",
    "\n",
    "pics = np.array(data_set.data)\n",
    "targets = np.array(data_set.targets)\n",
    "\n",
    "targets_indx = np.arange(len(targets))\n",
    "\n",
    "#stores indexes of corresponding pics of classes\n",
    "new_targets= []\n",
    "\n",
    "for i in range(len(targets)):\n",
    "\n",
    "    if targets[i] not in uppers:\n",
    "        new_targets.append(targets_indx[i])"
   ]
  },
  {
   "cell_type": "code",
   "execution_count": 12,
   "metadata": {},
   "outputs": [],
   "source": [
    "data_pics = pics[new_targets]\n",
    "data_target=targets[new_targets]"
   ]
  },
  {
   "cell_type": "code",
   "execution_count": 13,
   "metadata": {},
   "outputs": [
    {
     "name": "stdout",
     "output_type": "stream",
     "text": [
      "Minimum key: 45\n",
      "Minimum amount: 1896\n",
      "min value key: {'j'}\n"
     ]
    }
   ],
   "source": [
    "# classes uneven\n",
    "# finding class with least amount and using that number for all classes\n",
    "frequency_dict = {item: np.count_nonzero(data_target == item) for item in np.unique(data_target)}\n",
    "\n",
    "min_key = min(frequency_dict, key=frequency_dict.get)\n",
    "min_value = frequency_dict[min_key]\n",
    "\n",
    "print(\"Minimum key:\", min_key)\n",
    "print(\"Minimum amount:\", min_value)\n",
    "\n",
    "class_dict = {key: value for key, value in data_set.class_to_idx.items() if key not in list(string.ascii_uppercase)}\n",
    "\n",
    "value = {i for i in class_dict if class_dict[i]==min_key}\n",
    "print(\"min value key:\",value)\n"
   ]
  },
  {
   "cell_type": "code",
   "execution_count": 14,
   "metadata": {},
   "outputs": [],
   "source": [
    "# get even amount of pitures for every class\n",
    "n = min_value\n",
    "u = pd.unique(data_target)\n",
    "\n",
    "class_indexs= {x: [] for x in u}\n",
    "\n",
    "for class_num in u:\n",
    "    for j in range(len(data_target)):\n",
    "        if data_target[j] == class_num and len(class_indexs[class_num]) <n:\n",
    "            class_indexs[class_num].append(j)\n",
    "        "
   ]
  },
  {
   "cell_type": "code",
   "execution_count": 15,
   "metadata": {},
   "outputs": [],
   "source": [
    "even_pics= []\n",
    "even_targets = []\n",
    "\n",
    "for key in class_indexs.keys():\n",
    "\n",
    "    for j in range(n):\n",
    "        even_pics.append( data_pics[class_indexs[key][j]] )\n",
    "        even_targets.append( key )"
   ]
  },
  {
   "cell_type": "code",
   "execution_count": 16,
   "metadata": {},
   "outputs": [
    {
     "name": "stdout",
     "output_type": "stream",
     "text": [
      "[ 0  1  2  3  4  5  6  7  8  9 10 11 12 13 14 15 16 17 18 19 20 21 22 23\n",
      " 24 25 26 27 28 29 30 31 32 33 34 35]\n"
     ]
    }
   ],
   "source": [
    "#\n",
    "for i,target in enumerate(even_targets):\n",
    "    if target > 9:\n",
    "        even_targets[i] = target - 26\n",
    "\n",
    "print(np.unique(even_targets))"
   ]
  },
  {
   "cell_type": "code",
   "execution_count": 17,
   "metadata": {},
   "outputs": [
    {
     "name": "stdout",
     "output_type": "stream",
     "text": [
      "{'0': 0, '1': 1, '2': 2, '3': 3, '4': 4, '5': 5, '6': 6, '7': 7, '8': 8, '9': 9, 'a': 10, 'b': 11, 'c': 12, 'd': 13, 'e': 14, 'f': 15, 'g': 16, 'h': 17, 'i': 18, 'j': 19, 'k': 20, 'l': 21, 'm': 22, 'n': 23, 'o': 24, 'p': 25, 'q': 26, 'r': 27, 's': 28, 't': 29, 'u': 30, 'v': 31, 'w': 32, 'x': 33, 'y': 34, 'z': 35}\n"
     ]
    }
   ],
   "source": [
    "for key in class_dict.keys():\n",
    "\n",
    "    if class_dict[key] > 9 :\n",
    "        class_dict[key] -= 26 \n",
    "print(class_dict)"
   ]
  },
  {
   "cell_type": "code",
   "execution_count": 41,
   "metadata": {},
   "outputs": [
    {
     "name": "stdout",
     "output_type": "stream",
     "text": [
      "0\n"
     ]
    }
   ],
   "source": [
    "# from collections import Counter\n",
    "\n",
    "# c = 0 \n",
    "# for i in Counter(even_targets).keys():\n",
    "\n",
    "#     c+=(Counter(even_targets)[i] - 1896)\n",
    "    \n",
    "# print(c)"
   ]
  },
  {
   "cell_type": "code",
   "execution_count": 18,
   "metadata": {},
   "outputs": [],
   "source": [
    "from sklearn.model_selection import train_test_split\n",
    "\n",
    "X_train, X_test, y_train, y_test = train_test_split(np.array(even_pics), np.array(even_targets),\n",
    "                                                     test_size=0.2, random_state=1)"
   ]
  },
  {
   "cell_type": "code",
   "execution_count": 21,
   "metadata": {},
   "outputs": [
    {
     "name": "stderr",
     "output_type": "stream",
     "text": [
      "/var/folders/fv/nwc5x101553470vxrsy344_40000gn/T/ipykernel_80831/327268793.py:2: DeprecationWarning: This function is deprecated. Please call randint(0, 54604 + 1) instead\n",
      "  n= np.random.random_integers(0,len(y_train))\n"
     ]
    },
    {
     "data": {
      "image/png": "[encoded data removed]",
      "text/plain": [
       "<Figure size 640x480 with 1 Axes>"
      ]
     },
     "metadata": {},
     "output_type": "display_data"
    },
    {
     "name": "stdout",
     "output_type": "stream",
     "text": [
      "12\n",
      "C\n"
     ]
    }
   ],
   "source": [
    "# pitures are reflected \n",
    "n= np.random.random_integers(0,len(y_train))\n",
    "plt.imshow( np.transpose(X_train[n]) ,cmap='gray')\n",
    "plt.show()\n",
    "print(y_train[n])\n",
    "\n",
    "for i in data_set.class_to_idx.keys():\n",
    "    if data_set.class_to_idx[i]== y_train[n]:\n",
    "        print(i)"
   ]
  },
  {
   "cell_type": "code",
   "execution_count": 22,
   "metadata": {},
   "outputs": [],
   "source": [
    "# transposeing all pictures\n",
    "transposed_images_tr = np.zeros( [len(y_train), 28, 28] )\n",
    "for i,pic in enumerate(X_train):\n",
    "    transposed_images_tr[i,:,:] = pic.transpose()\n",
    "\n",
    "transposed_images_tst = np.zeros( [len(y_test), 28, 28] )\n",
    "for i,pic in enumerate(X_test):\n",
    "    transposed_images_tst[i,:,:] = pic.transpose()\n"
   ]
  },
  {
   "cell_type": "code",
   "execution_count": 23,
   "metadata": {},
   "outputs": [],
   "source": [
    "from torch.utils.data import DataLoader, TensorDataset\n",
    "\n",
    "\n",
    "\n",
    "train_dataset = TensorDataset( torch.Tensor(transposed_images_tr), torch.Tensor(y_train) )\n",
    "test_dataset = TensorDataset( torch.Tensor(transposed_images_tst), torch.Tensor(y_test) )"
   ]
  },
  {
   "cell_type": "code",
   "execution_count": 24,
   "metadata": {},
   "outputs": [],
   "source": [
    "batch_size = 64\n",
    "\n",
    "train_loader = torch.utils.data.DataLoader(\n",
    "train_dataset,\n",
    "    batch_size=batch_size,\n",
    "    shuffle=True\n",
    ")\n",
    "\n",
    "test_loader = torch.utils.data.DataLoader(\n",
    "    test_dataset,\n",
    "    batch_size=batch_size,\n",
    "    shuffle=False\n",
    ")"
   ]
  },
  {
   "cell_type": "code",
   "execution_count": 25,
   "metadata": {},
   "outputs": [],
   "source": [
    "# CNN model\n",
    "class CNN(nn.Module):\n",
    "    def __init__(self):\n",
    "        super(CNN, self).__init__()\n",
    "        self.conv1 = nn.Conv2d(in_channels=1, out_channels=32, kernel_size=3, padding=1)\n",
    "        self.conv2 = nn.Conv2d(in_channels=32, out_channels=64, kernel_size=3, padding=1)\n",
    "        self.conv3 = nn.Conv2d(in_channels=64, out_channels=128, kernel_size=3, padding=1)\n",
    "\n",
    "        self.pool = nn.MaxPool2d(kernel_size=2, stride=2)\n",
    "\n",
    "        self.fc1 = nn.Linear(in_features=128 * 3 * 3, out_features=512)  \n",
    "        self.fc2 = nn.Linear(in_features=512, out_features=256)\n",
    "        self.fc3 = nn.Linear(in_features=256, out_features=  36)  # 62 - 26 classes \n",
    "        self.dropout = nn.Dropout(0.5)\n",
    "\n",
    "    def forward(self, x):\n",
    "        x = self.pool(torch.relu(self.conv1(x)))\n",
    "        x = self.pool(torch.relu(self.conv2(x)))\n",
    "        x = self.pool(torch.relu(self.conv3(x)))\n",
    "        x = x.view(-1, 128 * 3 * 3)  # Reshape before fully connected layers\n",
    "        x = self.dropout(torch.relu(self.fc1(x)))\n",
    "        x = self.dropout(torch.relu(self.fc2(x)))\n",
    "        x = self.fc3(x)\n",
    "        return x\n",
    "\n",
    "model = CNN()"
   ]
  },
  {
   "cell_type": "code",
   "execution_count": 26,
   "metadata": {},
   "outputs": [],
   "source": [
    "criterion = nn.CrossEntropyLoss()\n",
    "optimizer = optim.Adam(model.parameters(), lr=0.001)"
   ]
  },
  {
   "cell_type": "code",
   "execution_count": 27,
   "metadata": {},
   "outputs": [
    {
     "data": {
      "image/png": "[encoded data removed]",
      "text/plain": [
       "<Figure size 640x480 with 1 Axes>"
      ]
     },
     "metadata": {},
     "output_type": "display_data"
    },
    {
     "name": "stdout",
     "output_type": "stream",
     "text": [
      "tensor(25.)\n",
      "p\n"
     ]
    }
   ],
   "source": [
    "for inputs,labels in train_loader:\n",
    "    plt.imshow(inputs[0])\n",
    "    plt.show()\n",
    "    print(labels[0])\n",
    "    \n",
    "    for i in data_set.class_to_idx.keys():\n",
    "        if labels[0] < 10:\n",
    "            if data_set.class_to_idx[i]== labels[0]:\n",
    "                print(i)\n",
    "                break\n",
    "        elif data_set.class_to_idx[i]== labels[0]+26:\n",
    "                print(i)\n",
    "    break"
   ]
  },
  {
   "cell_type": "code",
   "execution_count": 32,
   "metadata": {},
   "outputs": [
    {
     "name": "stdout",
     "output_type": "stream",
     "text": [
      "Epoch [1/1], Loss: 0.0393\n"
     ]
    }
   ],
   "source": [
    "# Training loop\n",
    "num_epochs = 1\n",
    "for epoch in range(num_epochs):\n",
    "    for inputs,labels in train_loader:\n",
    "\n",
    "        optimizer.zero_grad()\n",
    "        outputs = model(inputs.unsqueeze(1))\n",
    "        loss = criterion(outputs, labels.long())\n",
    "        loss.backward()\n",
    "        optimizer.step()\n",
    "\n",
    "    print(f'Epoch [{epoch+1}/{num_epochs}], Loss: {loss.item():.4f}')"
   ]
  },
  {
   "cell_type": "code",
   "execution_count": 39,
   "metadata": {},
   "outputs": [
    {
     "data": {
      "text/plain": [
       "tensor([17,  1, 34, 17, 22, 17, 10,  6, 32,  9, 28, 18, 22,  8, 35, 18, 25,  6,\n",
       "        20, 14])"
      ]
     },
     "execution_count": 39,
     "metadata": {},
     "output_type": "execute_result"
    }
   ],
   "source": [
    "predicted"
   ]
  },
  {
   "cell_type": "code",
   "execution_count": 33,
   "metadata": {},
   "outputs": [
    {
     "name": "stdout",
     "output_type": "stream",
     "text": [
      "Accuracy on test data: 86.42%\n"
     ]
    }
   ],
   "source": [
    "# Evaluate the model\n",
    "model.eval()\n",
    "correct = 0\n",
    "total = 0\n",
    "with torch.no_grad():\n",
    "    for inputs, labels in test_loader:\n",
    "\n",
    "        outputs = model(inputs.unsqueeze(1))\n",
    "\n",
    "        _, predicted = torch.max(outputs.data, 1)\n",
    "\n",
    "        total += labels.long().size(0)\n",
    "        \n",
    "        correct += (predicted == labels.long()).sum().item()\n",
    "\n",
    "print(f'Accuracy on test data: {100 * correct / total:.2f}%')"
   ]
  }
 ],
 "metadata": {
  "kernelspec": {
   "display_name": "Python 3",
   "language": "python",
   "name": "python3"
  },
  "language_info": {
   "codemirror_mode": {
    "name": "ipython",
    "version": 3
   },
   "file_extension": ".py",
   "mimetype": "text/x-python",
   "name": "python",
   "nbconvert_exporter": "python",
   "pygments_lexer": "ipython3",
   "version": "3.11.3"
  },
  "orig_nbformat": 4
 },
 "nbformat": 4,
 "nbformat_minor": 2
}
