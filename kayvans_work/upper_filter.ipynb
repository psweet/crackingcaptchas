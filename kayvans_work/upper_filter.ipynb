{
 "cells": [
  {
   "cell_type": "code",
   "execution_count": 2,
   "metadata": {},
   "outputs": [],
   "source": [
    "import torch\n",
    "import torchvision\n",
    "import random\n",
    "import os\n",
    "\n",
    "import torch.nn as nn\n",
    "import torch.nn.functional as F\n",
    "import torch.optim as optim\n",
    "import torchvision.transforms as T\n",
    "\n",
    "import matplotlib.pyplot as plt\n",
    "import numpy as np\n",
    "import pandas as pd\n",
    "\n",
    "PATH = './emnist.pth'"
   ]
  },
  {
   "attachments": {},
   "cell_type": "markdown",
   "metadata": {},
   "source": [
    "## Download/load data"
   ]
  },
  {
   "cell_type": "code",
   "execution_count": 3,
   "metadata": {},
   "outputs": [],
   "source": [
    "transform = T.Compose(\n",
    "    [\n",
    "        T.ToTensor(),\n",
    "        T.Normalize((0.5), (0.5))\n",
    "    ]\n",
    ")\n",
    "\n",
    "data_set = torchvision.datasets.EMNIST(\n",
    "    root='./data',\n",
    "    split=\"byclass\",\n",
    "    train=True,\n",
    "    download=True, \n",
    "    transform=transform\n",
    ")"
   ]
  },
  {
   "cell_type": "code",
   "execution_count": 4,
   "metadata": {},
   "outputs": [],
   "source": [
    "import string\n",
    "# removing upper case letters\n",
    "uppers = np.arange(10,36)\n",
    "\n",
    "pics = np.array(data_set.data)\n",
    "targets = np.array(data_set.targets)\n",
    "\n",
    "targets_indx = np.arange(len(targets))\n",
    "\n",
    "#stores indexes of corresponding pics of classes\n",
    "new_targets= []\n",
    "\n",
    "for i in range(len(targets)):\n",
    "\n",
    "    if targets[i] not in uppers:\n",
    "        new_targets.append(targets_indx[i])"
   ]
  },
  {
   "cell_type": "code",
   "execution_count": 5,
   "metadata": {},
   "outputs": [],
   "source": [
    "data_pics = pics[new_targets]\n",
    "data_target=targets[new_targets]"
   ]
  },
  {
   "cell_type": "code",
   "execution_count": 146,
   "metadata": {},
   "outputs": [
    {
     "name": "stdout",
     "output_type": "stream",
     "text": [
      "Minimum key: 45\n",
      "Minimum amount: 1896\n",
      "min value key: {'j'}\n"
     ]
    }
   ],
   "source": [
    "# classes uneven\n",
    "# finding class with least amount and ussing that number for all classes\n",
    "frequency_dict = {item: np.count_nonzero(data_target == item) for item in np.unique(data_target)}\n",
    "\n",
    "min_key = min(frequency_dict, key=frequency_dict.get)\n",
    "min_value = frequency_dict[min_key]\n",
    "\n",
    "print(\"Minimum key:\", min_key)\n",
    "print(\"Minimum amount:\", min_value)\n",
    "\n",
    "class_dict = {key: value for key, value in data_set.class_to_idx.items() if key not in list(string.ascii_uppercase)}\n",
    "\n",
    "value = {i for i in class_dict if class_dict[i]==min_key}\n",
    "print(\"min value key:\",value)\n"
   ]
  },
  {
   "cell_type": "code",
   "execution_count": 7,
   "metadata": {},
   "outputs": [],
   "source": [
    "# get even amount of pitures for every class\n",
    "n = min_value\n",
    "u = pd.unique(data_target)\n",
    "\n",
    "class_indexs= {x: [] for x in u}\n",
    "\n",
    "for class_num in u:\n",
    "    for j in range(len(data_target)):\n",
    "        if data_target[j] == class_num and len(class_indexs[class_num]) <n:\n",
    "            class_indexs[class_num].append(j)\n",
    "        "
   ]
  },
  {
   "cell_type": "code",
   "execution_count": 8,
   "metadata": {},
   "outputs": [],
   "source": [
    "even_pics= []\n",
    "even_targets = []\n",
    "\n",
    "for key in class_indexs.keys():\n",
    "\n",
    "    for j in range(n):\n",
    "        even_pics.append( data_pics[class_indexs[key][j]] )\n",
    "        even_targets.append( key )"
   ]
  },
  {
   "cell_type": "code",
   "execution_count": 14,
   "metadata": {},
   "outputs": [],
   "source": [
    "from sklearn.model_selection import train_test_split\n",
    "\n",
    "X_train, X_test, y_train, y_test = train_test_split(np.array(even_pics), np.array(even_targets),\n",
    "                                                     test_size=0.2, random_state=1)"
   ]
  },
  {
   "cell_type": "code",
   "execution_count": null,
   "metadata": {},
   "outputs": [],
   "source": [
    "n= np.random.random_integers(0,len(y_train))\n",
    "plt.imshow( np.transpose(even_pics[n]) ,cmap='gray')\n",
    "plt.show()\n",
    "print(even_targets[n])\n",
    "\n",
    "for i in data_set.class_to_idx.keys():\n",
    "    if data_set.class_to_idx[i]== even_targets[n]:\n",
    "        print(i)"
   ]
  },
  {
   "cell_type": "code",
   "execution_count": 161,
   "metadata": {},
   "outputs": [],
   "source": [
    "from torch.utils.data import Dataset, DataLoader\n",
    "\n",
    "class CustomDataset(Dataset):\n",
    "    def __init__(self, x_data, y_data):\n",
    "        self.x_data = x_data\n",
    "        self.y_data = y_data\n",
    "        \n",
    "    def __len__(self):\n",
    "        return len(self.x_data)\n",
    "    \n",
    "    def class_idx(self,Dataset):\n",
    "        class_dict = {key: value for key, value in Dataset.class_to_idx.items() \n",
    "                      if key not in list(string.ascii_uppercase)}\n",
    "        return class_dict\n",
    "\n",
    "    def __getitem__(self, idx):\n",
    "        x = self.x_data[idx]\n",
    "        y = self.y_data[idx]\n",
    "        return  torch.tensor(x, dtype=torch.float) , torch.tensor(y, dtype=torch.float)\n",
    "\n",
    "train_dataset = CustomDataset( y_train, X_train )\n",
    "test_dataset = CustomDataset( y_test, X_test )\n",
    "\n"
   ]
  },
  {
   "cell_type": "code",
   "execution_count": 163,
   "metadata": {},
   "outputs": [
    {
     "data": {
      "text/plain": [
       "<bound method CustomDataset.class_idx of <__main__.CustomDataset object at 0x15b825990>>"
      ]
     },
     "execution_count": 163,
     "metadata": {},
     "output_type": "execute_result"
    }
   ],
   "source": [
    "train_dataset.class_idx"
   ]
  },
  {
   "cell_type": "code",
   "execution_count": null,
   "metadata": {},
   "outputs": [],
   "source": [
    "batch_size = 5\n",
    "train_loader = torch.utils.data.DataLoader(\n",
    "    train_dataset,\n",
    "    batch_size=batch_size,\n",
    "    shuffle=True\n",
    ")\n",
    "\n",
    "test_loader = torch.utils.data.DataLoader(\n",
    "    test_dataset,\n",
    "    batch_size=batch_size,\n",
    "    shuffle=False\n",
    ")\n",
    "\n",
    "classes = train_loader.dataset.class_idx\n",
    "number_of_classes = len(classes.keys())\n",
    "\n",
    "def get_class_name(class_index):\n",
    "    for name, index in classes.items():\n",
    "        if index == class_index:\n",
    "            return name"
   ]
  }
 ],
 "metadata": {
  "kernelspec": {
   "display_name": "Python 3",
   "language": "python",
   "name": "python3"
  },
  "language_info": {
   "codemirror_mode": {
    "name": "ipython",
    "version": 3
   },
   "file_extension": ".py",
   "mimetype": "text/x-python",
   "name": "python",
   "nbconvert_exporter": "python",
   "pygments_lexer": "ipython3",
   "version": "3.11.3"
  },
  "orig_nbformat": 4
 },
 "nbformat": 4,
 "nbformat_minor": 2
}
