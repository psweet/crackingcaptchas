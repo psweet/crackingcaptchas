{
 "cells": [
  {
   "cell_type": "code",
   "execution_count": 10,
   "metadata": {},
   "outputs": [],
   "source": [
    "#pip install nbformat"
   ]
  },
  {
   "cell_type": "code",
   "execution_count": 10,
   "metadata": {},
   "outputs": [
    {
     "name": "stdout",
     "output_type": "stream",
     "text": [
      "2.0.1\n"
     ]
    }
   ],
   "source": [
    "import torch\n",
    "import torchvision\n",
    "from torch import nn\n",
    "import torch.nn.functional as F\n",
    "from torch.utils.data import DataLoader\n",
    "from torchvision import datasets\n",
    "from torchvision.transforms import ToTensor\n",
    "import torchvision.transforms as T\n",
    "print(torch.__version__)"
   ]
  },
  {
   "cell_type": "code",
   "execution_count": 2,
   "metadata": {},
   "outputs": [],
   "source": [
    "import numpy as np\n",
    "import matplotlib.pyplot as plt\n",
    "import os\n",
    "from PIL import Image"
   ]
  },
  {
   "cell_type": "code",
   "execution_count": 4,
   "metadata": {},
   "outputs": [],
   "source": [
    "from pathlib import Path\n",
    "current_directory = Path.cwd()\n",
    "\n",
    "# Get the parent directory (one level up)\n",
    "parent_directory = current_directory.parent\n",
    "    \n",
    "    \n",
    "path_to_dataset =str(parent_directory)+'/captcha_dataset'\n",
    "\n",
    "captchas = os.listdir(path_to_dataset)\n",
    "\n",
    "Y = []\n",
    "X = []\n",
    "# png's are 3D and 4D but all dimension are the same execpt for the 4th which is all balck\n",
    "# only turn png into array and keep the first dimension\n",
    "for i,img_name in enumerate(captchas):\n",
    "    Y.append(img_name[:5])\n",
    "\n",
    "    new_path = path_to_dataset + '/' + captchas[i]\n",
    "\n",
    "    image = Image.open(new_path)\n",
    "\n",
    "    array_image = np.array(image) \n",
    "\n",
    "    X.append(array_image[:,:,0])\n",
    "\n",
    "  "
   ]
  },
  {
   "cell_type": "code",
   "execution_count": 5,
   "metadata": {},
   "outputs": [
    {
     "name": "stdout",
     "output_type": "stream",
     "text": [
      "['a', 'b', 'c', 'd', 'e', 'f', 'g', 'h', 'i', 'j', 'k', 'l', 'm', 'n', 'o', 'p', 'q', 'r', 's', 't', 'u', 'v', 'w', 'x', 'y', 'z', '0', '1', '2', '3', '4', '5', '6', '7', '8', '9']\n"
     ]
    }
   ],
   "source": [
    "import string\n",
    "\n",
    "all_characters= list(string.ascii_lowercase) + list(string.digits)\n",
    "\n",
    "print(all_characters)\n",
    "\n",
    "nchar = len(all_characters)"
   ]
  },
  {
   "cell_type": "code",
   "execution_count": 6,
   "metadata": {},
   "outputs": [],
   "source": [
    "# make label array\n",
    "\n",
    "y = np.zeros((5,len(Y),nchar)) #5*1070*36(5 letters in captcha) with all entries 0\n",
    "\n",
    "for i,captcha in enumerate(Y):\n",
    "   \n",
    "  temp_label =np.zeros((5,nchar))\n",
    "\n",
    "  for j, character in enumerate(captcha):\n",
    "     \n",
    "      character_index =  all_characters.index(character)\n",
    "      temp_label[j,character_index] = 1\n",
    "  y[:,i] = temp_label"
   ]
  },
  {
   "cell_type": "code",
   "execution_count": 31,
   "metadata": {},
   "outputs": [
    {
     "data": {
      "text/plain": [
       "array([362])"
      ]
     },
     "execution_count": 31,
     "metadata": {},
     "output_type": "execute_result"
    }
   ],
   "source": [
    "rand_i"
   ]
  },
  {
   "cell_type": "code",
   "execution_count": null,
   "metadata": {},
   "outputs": [],
   "source": [
    "n = 1\n",
    "rand_i = np.random.randint(0,len(Y),size=(n))\n",
    "#362"
   ]
  },
  {
   "cell_type": "code",
   "execution_count": 45,
   "metadata": {},
   "outputs": [],
   "source": [
    "def show_digit(pic,a,b,label,ind):\n",
    "    plt.imshow(pic[:,a:b],cmap='gray')\n",
    "\n",
    "    plt.title(label[ind])\n",
    "    plt.show()\n"
   ]
  },
  {
   "cell_type": "code",
   "execution_count": 52,
   "metadata": {},
   "outputs": [
    {
     "data": {
      "text/plain": [
       "<matplotlib.image.AxesImage at 0x127a39450>"
      ]
     },
     "execution_count": 52,
     "metadata": {},
     "output_type": "execute_result"
    },
    {
     "data": {
      "image/png": "[encoded data removed]",
      "text/plain": [
       "<Figure size 640x480 with 1 Axes>"
      ]
     },
     "metadata": {},
     "output_type": "display_data"
    }
   ],
   "source": []
  },
  {
   "cell_type": "code",
   "execution_count": null,
   "metadata": {},
   "outputs": [],
   "source": [
    "rand_i = np.random.randint(0,len(Y))\n",
    "\n",
    "pic = X[rand_i][:,30:150]\n",
    "plt.imshow(pic)\n",
    "plt.show()\n",
    "label = Y[rand_i] \n",
    "diffs=[0]\n",
    "\n",
    "large_characters=['w','m']\n",
    "small_characters = ['f','f','1','l','t']\n",
    "\n",
    "small_size= 15\n",
    "normal_size=25\n",
    "large_size= 40\n",
    "for i in range(5):\n",
    "    \n",
    "    if label[i] in large_characters:\n",
    "\n",
    "        show_digit(pic,sum(diffs),sum(diffs)+large_size,label,i)\n",
    "\n",
    "        diffs.append(large_size)\n",
    "    \n",
    "    elif str(label[i]) in small_characters:\n",
    "\n",
    "        show_digit(pic,sum(diffs),sum(diffs)+small_size,label,i)\n",
    "        diffs.append(small_size)\n",
    "\n",
    "    else:\n",
    "        show_digit(pic,sum(diffs),sum(diffs)+normal_size,label,i)\n",
    "        diffs.append(normal_size)"
   ]
  },
  {
   "cell_type": "code",
   "execution_count": null,
   "metadata": {},
   "outputs": [],
   "source": [
    "# CNN Model\n",
    "import torch.nn as nn\n",
    "\n",
    "class CustomModel(nn.Module):\n",
    "    def __init__(self, imgshape, nchar):\n",
    "        super(CustomModel, self).__init__()\n",
    "        self.conv1 = nn.Conv2d(1, 16, kernel_size=(3, 3), padding=(1, 1))\n",
    "        self.relu1 = nn.ReLU()\n",
    "        self.mp1 = nn.MaxPool2d(kernel_size=(2, 2), stride=(2, 2), padding=(1, 1))\n",
    "\n",
    "        self.conv2 = nn.Conv2d(16, 32, kernel_size=(3, 3), padding=(1, 1))\n",
    "        self.relu2 = nn.ReLU()\n",
    "        self.mp2 = nn.MaxPool2d(kernel_size=(2, 2), stride=(2, 2), padding=(1, 1))\n",
    "\n",
    "        self.conv3 = nn.Conv2d(32, 32, kernel_size=(3, 3), padding=(1, 1))\n",
    "        self.relu3 = nn.ReLU()\n",
    "        self.mp3 = nn.MaxPool2d(kernel_size=(2, 2), stride=(2, 2), padding=(1, 1))\n",
    "\n",
    "        self.flatten = nn.Flatten()\n",
    "\n",
    "        self.dens1 = nn.Linear(32 * 7 * 25, 64) # Calculate the input size based on the shapes\n",
    "\n",
    "        self.dropout = nn.Dropout(0.5)\n",
    "        self.dens_out = nn.Linear(64, nchar)\n",
    "\n",
    "    def forward(self, x):\n",
    "        x = self.conv1(x)\n",
    "        x = self.relu1(x)\n",
    "        x = self.mp1(x)\n",
    "\n",
    "        x = self.conv2(x)\n",
    "        x = self.relu2(x)\n",
    "        x = self.mp2(x)\n",
    "\n",
    "        x = self.conv3(x)\n",
    "        x = self.relu3(x)\n",
    "        x = self.mp3(x)\n",
    "\n",
    "        x = self.flatten(x)\n",
    "        x = self.dens1(x)\n",
    "        x = self.relu3(x)\n",
    "\n",
    "        outs = []\n",
    "        for _ in range(5):\n",
    "            x_drop = self.dropout(x)\n",
    "            out = self.dens_out(x_drop)\n",
    "            outs.append(out)\n",
    "\n",
    "        return outs\n",
    "\n",
    "# Define the input shape and number of characters in the output\n",
    "imgshape = (1, 50, 200)\n",
    "nchar = 5  # Replace 10 with the actual number of characters in the output (e.g., the number of classes in the classification task)\n",
    "\n",
    "# Create the model\n",
    "model = CustomModel(imgshape, nchar)\n"
   ]
  },
  {
   "cell_type": "code",
   "execution_count": null,
   "metadata": {},
   "outputs": [],
   "source": [
    "import torch.optim as optim\n",
    "\n",
    "loss_fn = nn.CrossEntropyLoss()\n",
    "optimizer = optim.SGD(model.parameters(), lr=0.001, momentum=0.9)"
   ]
  },
  {
   "cell_type": "code",
   "execution_count": null,
   "metadata": {},
   "outputs": [],
   "source": []
  }
 ],
 "metadata": {
  "kernelspec": {
   "display_name": "env",
   "language": "python",
   "name": "python3"
  },
  "language_info": {
   "codemirror_mode": {
    "name": "ipython",
    "version": 3
   },
   "file_extension": ".py",
   "mimetype": "text/x-python",
   "name": "python",
   "nbconvert_exporter": "python",
   "pygments_lexer": "ipython3",
   "version": "3.11.3"
  },
  "orig_nbformat": 4
 },
 "nbformat": 4,
 "nbformat_minor": 2
}
