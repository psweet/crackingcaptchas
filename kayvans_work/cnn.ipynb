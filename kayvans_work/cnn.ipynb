{
 "cells": [
  {
   "cell_type": "code",
   "execution_count": 10,
   "metadata": {},
   "outputs": [],
   "source": [
    "#pip install nbformat"
   ]
  },
  {
   "cell_type": "code",
   "execution_count": 1,
   "metadata": {},
   "outputs": [
    {
     "name": "stdout",
     "output_type": "stream",
     "text": [
      "2.0.1\n"
     ]
    }
   ],
   "source": [
    "import torch\n",
    "import torchvision\n",
    "from torch import nn\n",
    "import torch.nn.functional as F\n",
    "from torch.utils.data import DataLoader\n",
    "from torchvision import datasets\n",
    "from torchvision.transforms import ToTensor\n",
    "import torchvision.transforms as T\n",
    "print(torch.__version__)"
   ]
  },
  {
   "cell_type": "code",
   "execution_count": 2,
   "metadata": {},
   "outputs": [],
   "source": [
    "import numpy as np\n",
    "import matplotlib.pyplot as plt\n",
    "import os\n",
    "from PIL import Image"
   ]
  },
  {
   "cell_type": "code",
   "execution_count": 3,
   "metadata": {},
   "outputs": [],
   "source": [
    "from pathlib import Path\n",
    "current_directory = Path.cwd()\n",
    "\n",
    "# Get the parent directory (one level up)\n",
    "parent_directory = current_directory.parent\n",
    "    \n",
    "    \n",
    "path_to_dataset =str(parent_directory)+'/captcha_dataset'\n",
    "\n",
    "captchas = os.listdir(path_to_dataset)\n",
    "\n",
    "Y = []\n",
    "X = []\n",
    "# png's are 3D and 4D but all dimension are the same execpt for the 4th which is all balck\n",
    "# only turn png into array and keep the first dimension\n",
    "for i,img_name in enumerate(captchas):\n",
    "    Y.append(img_name[:5])\n",
    "\n",
    "    new_path = path_to_dataset + '/' + captchas[i]\n",
    "\n",
    "    image = Image.open(new_path)\n",
    "\n",
    "    array_image = np.array(image) \n",
    "\n",
    "    X.append(array_image[:,:,0])\n",
    "\n",
    "  "
   ]
  },
  {
   "cell_type": "code",
   "execution_count": 27,
   "metadata": {},
   "outputs": [
    {
     "data": {
      "image/png": "[encoded data removed]",
      "text/plain": [
       "<Figure size 640x480 with 1 Axes>"
      ]
     },
     "metadata": {},
     "output_type": "display_data"
    }
   ],
   "source": [
    "rand_pic = np.random.randint(0,len(Y))\n",
    "plt.imshow(X[rand_pic][:,15:150],cmap='gray')\n",
    "plt.title(Y[rand_pic])\n",
    "plt.show()"
   ]
  },
  {
   "cell_type": "code",
   "execution_count": 4,
   "metadata": {},
   "outputs": [
    {
     "name": "stdout",
     "output_type": "stream",
     "text": [
      "['a', 'b', 'c', 'd', 'e', 'f', 'g', 'h', 'i', 'j', 'k', 'l', 'm', 'n', 'o', 'p', 'q', 'r', 's', 't', 'u', 'v', 'w', 'x', 'y', 'z', '0', '1', '2', '3', '4', '5', '6', '7', '8', '9']\n"
     ]
    }
   ],
   "source": [
    "import string\n",
    "\n",
    "all_characters= list(string.ascii_lowercase) + list(string.digits)\n",
    "\n",
    "print(all_characters)\n",
    "\n",
    "nchar = len(all_characters)"
   ]
  },
  {
   "cell_type": "code",
   "execution_count": 6,
   "metadata": {},
   "outputs": [],
   "source": [
    "# make label array\n",
    "\n",
    "y = np.zeros((5,len(Y),nchar)) #5*1070*36(5 letters in captcha) with all entries 0\n",
    "\n",
    "for i,captcha in enumerate(Y):\n",
    "   \n",
    "  temp_label =np.zeros((5,nchar))\n",
    "\n",
    "  for j, character in enumerate(captcha):\n",
    "     \n",
    "      character_index =  all_characters.index(character)\n",
    "      temp_label[j,character_index] = 1\n",
    "  y[:,i] = temp_label"
   ]
  },
  {
   "cell_type": "code",
   "execution_count": null,
   "metadata": {},
   "outputs": [],
   "source": [
    "class_dict = {}\n",
    "for i, charac in enumerate(list(range(10)) + list(string.ascii_lowercase)) :\n",
    "\n",
    "    class_dict[i] = str(charac)\n",
    "class_dict"
   ]
  },
  {
   "cell_type": "code",
   "execution_count": 45,
   "metadata": {},
   "outputs": [],
   "source": [
    "class CaptchaDataset(Dataset):\n",
    "  \n",
    "  def __init__(self,car_path,transform,translation_dict):\n",
    "    self.path = car_path\n",
    "    self.folder = [x for x in listdir(car_path)]\n",
    "    self.transform = transform\n",
    "    self.translation_dict = translation_dict\n",
    "\n",
    "  def __len__(self):\n",
    "    return len(self.folder)\n",
    "\n",
    "  def __getitem__(self,idx):\n",
    "    img_loc = os.path.join(self.path, self.folder[idx])\n",
    "    image = Image.open(img_loc).convert('RGB')\n",
    "    single_img = self.transform(image)\n",
    "\n",
    "    label1 = translation_dict[self.folder[idx]][0]\n",
    "    label2 = translation_dict[self.folder[idx]][1]\n",
    "    label3 = translation_dict[self.folder[idx]][2]\n",
    "    label4 = translation_dict[self.folder[idx]][3]\n",
    "    label5 = translation_dict[self.folder[idx]][4]\n",
    "    \n",
    "\n",
    "    sample = {'image':single_img, 'labels': {'label_brand':label1, 'label_vehicle_type':label2, 'label_epoch':label3}}\n",
    "    return sample   \n"
   ]
  }
 ],
 "metadata": {
  "kernelspec": {
   "display_name": "env",
   "language": "python",
   "name": "python3"
  },
  "language_info": {
   "codemirror_mode": {
    "name": "ipython",
    "version": 3
   },
   "file_extension": ".py",
   "mimetype": "text/x-python",
   "name": "python",
   "nbconvert_exporter": "python",
   "pygments_lexer": "ipython3",
   "version": "3.11.3"
  },
  "orig_nbformat": 4
 },
 "nbformat": 4,
 "nbformat_minor": 2
}
